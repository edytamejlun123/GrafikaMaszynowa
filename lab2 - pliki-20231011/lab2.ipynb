{
 "cells": [
  {
   "cell_type": "code",
   "execution_count": null,
   "metadata": {},
   "outputs": [],
   "source": [
    "from PIL import Image  # Python Imaging Library\n",
    "import numpy as np"
   ]
  },
  {
   "cell_type": "code",
   "execution_count": null,
   "metadata": {},
   "outputs": [],
   "source": [
    "inicjaly = Image.open(\"bs.bmp\")  # wczytywanie obrazu\n",
    "\n",
    "print(\"tryb\", inicjaly.mode)\n",
    "print(\"format\", inicjaly.format)\n",
    "print(\"rozmiar\", inicjaly.size)\n",
    "\n",
    "t_inicjaly = np.asarray(inicjaly)\n",
    "print(\"typ danych tablicy\", t_inicjaly.dtype)  # typ danych przechowywanych w tablicy\n",
    "print(\"rozmiar tablicy\", t_inicjaly.shape)  # rozmiar tablicy - warto porównac z wymiarami obrazka\n",
    "\n"
   ]
  },
  {
   "cell_type": "code",
   "execution_count": null,
   "metadata": {},
   "outputs": [],
   "source": [
    "inicjaly\n",
    "# inicjaly.show()"
   ]
  },
  {
   "cell_type": "code",
   "execution_count": null,
   "metadata": {},
   "outputs": [],
   "source": [
    "def rysuj_paski_w_obrazie(obraz, grub): # rysuje pionowy pas grubości grub po lewej stronie oraz po prawej stronie \n",
    "    tab_obraz = np.asarray(obraz)*1 # wczytanie tablicy obrazu i zamiana na int\n",
    "    h, w = tab_obraz.shape\n",
    "    for i in range(h):\n",
    "        for j in range(grub):\n",
    "            tab_obraz[i][j]=0 \n",
    "        for j in range(w-grub,w):\n",
    "            tab_obraz[i][j]=0   \n",
    "    tab = tab_obraz.astype(bool) # zapisanie tablicy w typie bool (obrazy czarnobiałe)\n",
    "    return Image.fromarray(tab)\n",
    "    \n",
    "\n",
    "inicjaly_paski = rysuj_paski_w_obrazie(inicjaly, 10)"
   ]
  },
  {
   "cell_type": "code",
   "execution_count": null,
   "metadata": {},
   "outputs": [],
   "source": [
    "inicjaly_paski"
   ]
  },
  {
   "cell_type": "code",
   "execution_count": null,
   "metadata": {},
   "outputs": [],
   "source": [
    "def rysuj_ramke(w, h, grub): # grub grubość ramki w pikselach\n",
    "    t = (h, w)  # rozmiar tablicy\n",
    "    tab = np.zeros(t, dtype=np.uint8)  # deklaracja tablicy wypełnionej zerami - czarna\n",
    "    tab[grub:h - grub, grub:w - grub] = 1  # skrócona wersja ustawienia wartości dla prostokatnego fragmentu tablicy [zakresy wysokości, zakresy szerokości] tablicy\n",
    "    tab1 = tab.astype(np.bool)\n",
    "    #return tab * 255  # alternatywny sposób uzyskania tablicy obrazu czarnobiałego ale w trybie odcieni szarości\n",
    "    return tab1\n",
    "\n",
    "tab = rysuj_ramke(120, 60, 8)\n",
    "print(\"typ danych tablicy\", tab.dtype)\n",
    "print(\"rozmiar wyrazu tablicy:\",   tab.itemsize)\n",
    "im_ramka = Image.fromarray(tab)\n",
    "im_ramka"
   ]
  },
  {
   "cell_type": "code",
   "execution_count": null,
   "metadata": {},
   "outputs": [],
   "source": [
    "def rysuj_pasy_poziome(w, h, grub):  # w, h   -  rozmiar obrazu\n",
    "    t = (h, w)  # rozmiar tablicy\n",
    "    tab = np.ones(t, dtype=np.uint8)\n",
    "    # jaki bedzie efekt, gdy np.ones zamienimy na np.zeros?\n",
    "    ile =  int(h/grub)  # liczba pasów = 9 o grubości 10\n",
    "    for k in range(ile):  # uwaga k = 0,1,2,3,4,5,8   bez dziewiatki\n",
    "        for g in range(grub):\n",
    "            i = k * grub + g  # i - indeks wiersza, j - indeks kolumny\n",
    "            for j in range(w):\n",
    "                tab[i, j] = k % 2  # reszta z dzielenia przez dwa\n",
    "    tab = tab * 255  # alternatywny sposób uzyskania tablicy obrazu czarnobiałego ale w trybie odcieni szarości\n",
    "    return Image.fromarray(tab)  # tworzy obraz\n",
    "    \n",
    "\n",
    "\n",
    "obraz = rysuj_pasy_poziome(100, 180, 18)\n",
    "obraz"
   ]
  },
  {
   "cell_type": "code",
   "execution_count": null,
   "metadata": {
    "pycharm": {
     "is_executing": true
    }
   },
   "outputs": [],
   "source": [
    "def wstaw_obraz(w, h, m, n, obraz): # w,h rozmiary nowego obrazu, m<=w,  n<=h (m,n miejsce wstawienia obrazu )\n",
    "    tab_obraz = np.asarray(obraz)*1\n",
    "    h0, w0 = tab_obraz.shape\n",
    "    t = (h, w)  # rozmiar tablicy nowego obrazu\n",
    "    tab = np.ones(t, dtype=np.uint8)  # deklaracja tablicy wypełnionej jedynkami - biała\n",
    "    n_k = min(h, n + h0) # jesli wstawiany obraz wychodzi poza ramy nowego obrazu, to przycinamy\n",
    "    m_k = min(w, m + w0) # jesli wstawiany obraz wychodzi poza ramy nowego obrazu, to przycinamy\n",
    "    n_p = max(0, n) # jesli miejsce wstawienia jest ujemne(wychodzi poza nowy obraz w górę), to przycinamy\n",
    "    m_p = max(0, m) # jesli miejsce wstawienia jest ujemne(wychodzi poza nowy obraz w lewo), to przycinamy\n",
    "    print(n_k, m_k)\n",
    "    print(n_p, m_p)\n",
    "    for i in range(n_p, n_k):\n",
    "        for j in range(m_p, m_k):\n",
    "            tab[i][j] = tab_obraz[i - n][j - m]\n",
    "    tab = tab.astype(bool) # zapisanie tablicy w typie bool (obrazy czarnobiałe)\n",
    "    return Image.fromarray(tab)\n",
    "    \n",
    "\n",
    "wstaw_obraz(200, 100, 50, 20, inicjaly_paski)"
   ]
  },
  {
   "cell_type": "code",
   "execution_count": null,
   "outputs": [],
   "source": [],
   "metadata": {
    "collapsed": false
   }
  }
 ],
 "metadata": {
  "kernelspec": {
   "display_name": "Python 3",
   "language": "python",
   "name": "python3"
  },
  "language_info": {
   "codemirror_mode": {
    "name": "ipython",
    "version": 3
   },
   "file_extension": ".py",
   "mimetype": "text/x-python",
   "name": "python",
   "nbconvert_exporter": "python",
   "pygments_lexer": "ipython3",
   "version": "3.8.0"
  },
  "orig_nbformat": 4
 },
 "nbformat": 4,
 "nbformat_minor": 2
}
